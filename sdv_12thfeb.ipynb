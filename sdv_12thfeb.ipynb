{
 "cells": [
  {
   "cell_type": "code",
   "execution_count": 3,
   "id": "977f2c72-e589-4c7a-9465-5d59aad25e24",
   "metadata": {},
   "outputs": [],
   "source": [
    "import pandas as pd\n",
    "import numpy as np\n",
    "import sdv \n"
   ]
  },
  {
   "cell_type": "code",
   "execution_count": 4,
   "id": "c6694183-fcab-41d2-8e27-24d1bd3b650b",
   "metadata": {},
   "outputs": [],
   "source": [
    "df=pd.read_csv(\"creditcard.csv\")"
   ]
  },
  {
   "cell_type": "code",
   "execution_count": 5,
   "id": "01dc517a-ab56-41c2-92f0-a466aee0f5e0",
   "metadata": {},
   "outputs": [],
   "source": [
    "from sdv.metadata import SingleTableMetadata\n",
    "metadata=SingleTableMetadata()\n",
    "metadata.detect_from_dataframe(df)"
   ]
  },
  {
   "cell_type": "code",
   "execution_count": 6,
   "id": "74dcd290-3747-4140-9f4d-e605a4fc1486",
   "metadata": {},
   "outputs": [],
   "source": [
    "from sdv.sampling import Condition\n",
    "fraud_values=Condition(num_rows=100,column_values={'Class':'1'})\n"
   ]
  },
  {
   "cell_type": "code",
   "execution_count": 7,
   "id": "55e2f588-c9a9-4152-9582-3ea9d3aaf6da",
   "metadata": {},
   "outputs": [],
   "source": [
    "from sdv.single_table import CTGANSynthesizer\n",
    "\n",
    "synthesizer = CTGANSynthesizer(\n",
    "    metadata, # required\n",
    "    enforce_rounding=False,\n",
    "    epochs=20,\n",
    "    verbose=True\n",
    ")"
   ]
  },
  {
   "cell_type": "code",
   "execution_count": 8,
   "id": "aca4016c-4193-4f26-b8f4-472adabc6176",
   "metadata": {},
   "outputs": [
    {
     "name": "stderr",
     "output_type": "stream",
     "text": [
      "Gen. (-0.97) | Discrim. (-0.11): 100%|██████████| 20/20 [02:44<00:00,  8.24s/it]\n"
     ]
    }
   ],
   "source": [
    "synthesizer.fit(df)"
   ]
  },
  {
   "cell_type": "code",
   "execution_count": 9,
   "id": "1571b30d-24bc-40ad-9468-81c862ef272e",
   "metadata": {},
   "outputs": [],
   "source": [
    "synthetic_dataset=synthesizer.sample(num_rows=200000)"
   ]
  },
  {
   "cell_type": "code",
   "execution_count": 10,
   "id": "6c4898a2-6814-4199-af0a-ca241b406488",
   "metadata": {},
   "outputs": [],
   "source": [
    "synthetic_dataset.to_csv(\"Synthetic_dataset_4_march\",index=False)\n"
   ]
  },
  {
   "cell_type": "code",
   "execution_count": 12,
   "id": "147e8e4d-a262-4c75-b51c-ef81982a113f",
   "metadata": {},
   "outputs": [],
   "source": [
    "df2=pd.read_csv(\"Synthetic_dataset_4_march\")\n"
   ]
  },
  {
   "cell_type": "code",
   "execution_count": 14,
   "id": "9b5cc30a-7b66-40db-bbc1-906fb0b5ae08",
   "metadata": {},
   "outputs": [
    {
     "data": {
      "text/plain": [
       "Class\n",
       "1    111237\n",
       "0     88763\n",
       "Name: count, dtype: int64"
      ]
     },
     "execution_count": 14,
     "metadata": {},
     "output_type": "execute_result"
    }
   ],
   "source": [
    "class_counts=df2['Class'].value_counts()\n",
    "class_counts"
   ]
  },
  {
   "cell_type": "code",
   "execution_count": 52,
   "id": "2dc0d6f2-897d-4ddb-a32d-4d432ac23604",
   "metadata": {},
   "outputs": [
    {
     "name": "stdout",
     "output_type": "stream",
     "text": [
      "Generating report ...\n",
      "(1/2) Evaluating Column Shapes: : 100%|██████████████████████████████| 31/31 [00:01<00:00, 20.83it/s]\n",
      "(2/2) Evaluating Column Pair Trends: : 100%|███████████████████████| 465/465 [00:18<00:00, 24.82it/s]\n",
      "\n",
      "Overall Score: 83.89%\n",
      "\n",
      "Properties:\n",
      "- Column Shapes: 81.78%\n",
      "- Column Pair Trends: 85.99%\n"
     ]
    }
   ],
   "source": [
    "from sdv.evaluation.single_table import evaluate_quality\n",
    "\n",
    "quality_report = evaluate_quality(\n",
    "    real_data=df,\n",
    "    synthetic_data=synthetic_dataset,\n",
    "    metadata=metadata)"
   ]
  },
  {
   "cell_type": "code",
   "execution_count": 12,
   "id": "61e665a4-ae5c-4678-b54d-34f2243fecb9",
   "metadata": {},
   "outputs": [],
   "source": [
    "synthetic_dataset=pd.read_csv(\"Synthetic_dataset_1\")"
   ]
  },
  {
   "cell_type": "code",
   "execution_count": 1,
   "id": "92c6d124-39cc-4203-9d83-1f0db2f34611",
   "metadata": {},
   "outputs": [
    {
     "ename": "NameError",
     "evalue": "name 'df' is not defined",
     "output_type": "error",
     "traceback": [
      "\u001b[0;31m---------------------------------------------------------------------------\u001b[0m",
      "\u001b[0;31mNameError\u001b[0m                                 Traceback (most recent call last)",
      "Cell \u001b[0;32mIn[1], line 5\u001b[0m\n\u001b[1;32m      1\u001b[0m \u001b[38;5;28;01mfrom\u001b[39;00m \u001b[38;5;21;01msdv\u001b[39;00m\u001b[38;5;21;01m.\u001b[39;00m\u001b[38;5;21;01mevaluation\u001b[39;00m\u001b[38;5;21;01m.\u001b[39;00m\u001b[38;5;21;01msingle_table\u001b[39;00m \u001b[38;5;28;01mimport\u001b[39;00m get_column_plot\n\u001b[1;32m      2\u001b[0m \u001b[38;5;28;01mimport\u001b[39;00m \u001b[38;5;21;01mmatplotlib\u001b[39;00m\u001b[38;5;21;01m.\u001b[39;00m\u001b[38;5;21;01mpyplot\u001b[39;00m \u001b[38;5;28;01mas\u001b[39;00m \u001b[38;5;21;01mplt\u001b[39;00m\n\u001b[1;32m      4\u001b[0m fig \u001b[38;5;241m=\u001b[39m get_column_plot(\n\u001b[0;32m----> 5\u001b[0m     real_data\u001b[38;5;241m=\u001b[39mdf,\n\u001b[1;32m      6\u001b[0m     synthetic_data\u001b[38;5;241m=\u001b[39msynthetic_dataset,\n\u001b[1;32m      7\u001b[0m     metadata\u001b[38;5;241m=\u001b[39mmetadata,\n\u001b[1;32m      8\u001b[0m     column_name\u001b[38;5;241m=\u001b[39m\u001b[38;5;124m'\u001b[39m\u001b[38;5;124mClass\u001b[39m\u001b[38;5;124m'\u001b[39m\n\u001b[1;32m      9\u001b[0m )\n\u001b[1;32m     11\u001b[0m fig\u001b[38;5;241m.\u001b[39mshow()\n\u001b[1;32m     12\u001b[0m \u001b[38;5;28;01mfrom\u001b[39;00m \u001b[38;5;21;01mPIL\u001b[39;00m \u001b[38;5;28;01mimport\u001b[39;00m image\n",
      "\u001b[0;31mNameError\u001b[0m: name 'df' is not defined"
     ]
    }
   ],
   "source": [
    "from sdv.evaluation.single_table import get_column_plot\n",
    "import matplotlib.pyplot as plt\n",
    "\n",
    "fig = get_column_plot(\n",
    "    real_data=df,\n",
    "    synthetic_data=synthetic_dataset,\n",
    "    metadata=metadata,\n",
    "    column_name='Class'\n",
    ")\n",
    "    \n",
    "fig.show()\n",
    "from PIL import image\n",
    "image=fig.to_image()\n",
    "image.save(\"Compaison real vs Synthetic\")"
   ]
  },
  {
   "cell_type": "code",
   "execution_count": null,
   "id": "eb775c46-2b78-4dca-9cb3-a9dc698db978",
   "metadata": {},
   "outputs": [],
   "source": []
  },
  {
   "cell_type": "code",
   "execution_count": 44,
   "id": "9c6ac5b7-c52e-4678-8c71-b8023a58a4ea",
   "metadata": {},
   "outputs": [],
   "source": [
    "# from sdv.sampling import Condition\n",
    "# fraud_values=Condition(column_values={'Class':'1'})\n",
    "\n",
    "# synthetic_data =synthesizer.sample_from_conditions(\n",
    "#     conditions=[fraud_values],\n",
    "#     max_tries_per_batch=2000,\n",
    "#     batch_size=10,\n",
    "#     output_file_path='synthetic_simulated_scenario_1.csv'\n",
    "# )\n",
    "\n"
   ]
  },
  {
   "cell_type": "code",
   "execution_count": null,
   "id": "1a3d90ee-2d53-4489-bffa-34e04b54bb9d",
   "metadata": {},
   "outputs": [],
   "source": [
    "\n"
   ]
  },
  {
   "cell_type": "code",
   "execution_count": null,
   "id": "41afaa19-19b3-4328-9b22-558be11eae85",
   "metadata": {},
   "outputs": [],
   "source": []
  },
  {
   "cell_type": "code",
   "execution_count": null,
   "id": "6307d606-1124-4535-8efa-8a89205d821f",
   "metadata": {},
   "outputs": [],
   "source": []
  },
  {
   "cell_type": "code",
   "execution_count": null,
   "id": "5ad759fd-3f18-4dbc-bdc1-1c36031365bd",
   "metadata": {},
   "outputs": [],
   "source": []
  },
  {
   "cell_type": "code",
   "execution_count": null,
   "id": "5b2c4743-df0a-4585-97d8-9b7f283c942e",
   "metadata": {},
   "outputs": [],
   "source": []
  },
  {
   "cell_type": "code",
   "execution_count": null,
   "id": "5dbd3ed5-7598-461d-a566-bf9151a35db6",
   "metadata": {},
   "outputs": [],
   "source": []
  },
  {
   "cell_type": "code",
   "execution_count": null,
   "id": "e17c682d-87dd-4c57-9180-1cb7e3f938a3",
   "metadata": {},
   "outputs": [],
   "source": [
    "# count=0\n",
    "# for val in synthetic_data['Class']:\n",
    "#     if val == 0:\n",
    "#         count=count+1\n",
    "# print(count)"
   ]
  },
  {
   "cell_type": "code",
   "execution_count": 3,
   "id": "9dfab34f-1277-4bbf-9afa-371889e99afc",
   "metadata": {},
   "outputs": [
    {
     "name": "stdout",
     "output_type": "stream",
     "text": [
      "anand             sdv_12thfeb.ipynb  synthetic_simulated_scenario.csv\n",
      "requirements.txt  synthetic_data\n"
     ]
    }
   ],
   "source": [
    "ls\n"
   ]
  },
  {
   "cell_type": "code",
   "execution_count": null,
   "id": "ef0bb662-d94e-456a-aaba-63aea8abfbf3",
   "metadata": {},
   "outputs": [],
   "source": []
  }
 ],
 "metadata": {
  "kernelspec": {
   "display_name": "Python 3 (ipykernel)",
   "language": "python",
   "name": "python3"
  },
  "language_info": {
   "codemirror_mode": {
    "name": "ipython",
    "version": 3
   },
   "file_extension": ".py",
   "mimetype": "text/x-python",
   "name": "python",
   "nbconvert_exporter": "python",
   "pygments_lexer": "ipython3",
   "version": "3.11.7"
  }
 },
 "nbformat": 4,
 "nbformat_minor": 5
}
