{
 "cells": [
  {
   "cell_type": "code",
   "execution_count": 2,
   "id": "977f2c72-e589-4c7a-9465-5d59aad25e24",
   "metadata": {},
   "outputs": [],
   "source": [
    "import pandas as pd\n",
    "import numpy as np\n",
    "import sdv \n"
   ]
  },
  {
   "cell_type": "code",
   "execution_count": 3,
   "id": "c6694183-fcab-41d2-8e27-24d1bd3b650b",
   "metadata": {},
   "outputs": [],
   "source": [
    "df=pd.read_csv(\"creditcard.csv\")"
   ]
  },
  {
   "cell_type": "code",
   "execution_count": 4,
   "id": "01dc517a-ab56-41c2-92f0-a466aee0f5e0",
   "metadata": {},
   "outputs": [],
   "source": [
    "from sdv.metadata import SingleTableMetadata\n",
    "metadata=SingleTableMetadata()\n",
    "metadata.detect_from_dataframe(df)"
   ]
  },
  {
   "cell_type": "code",
   "execution_count": 5,
   "id": "74dcd290-3747-4140-9f4d-e605a4fc1486",
   "metadata": {},
   "outputs": [],
   "source": [
    "from sdv.sampling import Condition\n",
    "fraud_values=Condition(num_rows=100,column_values={'Class':'1'})\n"
   ]
  },
  {
   "cell_type": "code",
   "execution_count": 12,
   "id": "55e2f588-c9a9-4152-9582-3ea9d3aaf6da",
   "metadata": {},
   "outputs": [],
   "source": [
    "from sdv.single_table import CTGANSynthesizer\n",
    "\n",
    "synthesizer = CTGANSynthesizer(\n",
    "    metadata, # required\n",
    "    enforce_rounding=False,\n",
    "    epochs=500,\n",
    "    verbose=True\n",
    ")"
   ]
  },
  {
   "cell_type": "code",
   "execution_count": null,
   "id": "aca4016c-4193-4f26-b8f4-472adabc6176",
   "metadata": {},
   "outputs": [
    {
     "name": "stderr",
     "output_type": "stream",
     "text": [
      "Gen. (-0.11) | Discrim. (-0.18):  94%|█████▋| 472/500 [1:05:10<03:52,  8.29s/it]"
     ]
    }
   ],
   "source": [
    "synthesizer.fit(df)"
   ]
  },
  {
   "cell_type": "code",
   "execution_count": 10,
   "id": "9c6ac5b7-c52e-4678-8c71-b8023a58a4ea",
   "metadata": {},
   "outputs": [],
   "source": [
    "# from sdv.single_table import CTGANSynthesizer\n",
    "\n",
    "\n",
    "\n",
    "# synthetic_data =synthesizer.sample_from_conditions(\n",
    "#     conditions=[fraud_values],\n",
    "#     output_file_path='synthetic_simulated_scenario.csv'\n",
    "# )\n"
   ]
  },
  {
   "cell_type": "code",
   "execution_count": null,
   "id": "41afaa19-19b3-4328-9b22-558be11eae85",
   "metadata": {},
   "outputs": [],
   "source": []
  },
  {
   "cell_type": "code",
   "execution_count": null,
   "id": "6307d606-1124-4535-8efa-8a89205d821f",
   "metadata": {},
   "outputs": [],
   "source": []
  },
  {
   "cell_type": "code",
   "execution_count": null,
   "id": "5ad759fd-3f18-4dbc-bdc1-1c36031365bd",
   "metadata": {},
   "outputs": [],
   "source": []
  },
  {
   "cell_type": "code",
   "execution_count": 26,
   "id": "5b2c4743-df0a-4585-97d8-9b7f283c942e",
   "metadata": {},
   "outputs": [],
   "source": []
  },
  {
   "cell_type": "code",
   "execution_count": 25,
   "id": "5dbd3ed5-7598-461d-a566-bf9151a35db6",
   "metadata": {},
   "outputs": [],
   "source": []
  },
  {
   "cell_type": "code",
   "execution_count": 32,
   "id": "e17c682d-87dd-4c57-9180-1cb7e3f938a3",
   "metadata": {},
   "outputs": [
    {
     "name": "stdout",
     "output_type": "stream",
     "text": [
      "100\n"
     ]
    }
   ],
   "source": [
    "# count=0\n",
    "# for val in synthetic_data['Class']:\n",
    "#     if val == 0:\n",
    "#         count=count+1\n",
    "# print(count)"
   ]
  },
  {
   "cell_type": "code",
   "execution_count": null,
   "id": "9dfab34f-1277-4bbf-9afa-371889e99afc",
   "metadata": {},
   "outputs": [],
   "source": []
  }
 ],
 "metadata": {
  "kernelspec": {
   "display_name": "Python 3 (ipykernel)",
   "language": "python",
   "name": "python3"
  },
  "language_info": {
   "codemirror_mode": {
    "name": "ipython",
    "version": 3
   },
   "file_extension": ".py",
   "mimetype": "text/x-python",
   "name": "python",
   "nbconvert_exporter": "python",
   "pygments_lexer": "ipython3",
   "version": "3.11.7"
  }
 },
 "nbformat": 4,
 "nbformat_minor": 5
}
