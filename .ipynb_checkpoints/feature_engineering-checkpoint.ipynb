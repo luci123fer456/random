{
 "cells": [
  {
   "cell_type": "code",
   "execution_count": 1,
   "id": "44a04c8b-a265-4a95-8091-3d692ea80835",
   "metadata": {},
   "outputs": [],
   "source": [
    "import pandas as pd\n",
    "import numpy as np"
   ]
  },
  {
   "cell_type": "code",
   "execution_count": 2,
   "id": "7de5d102-1d1b-4e02-b4ff-7a4ae403a30a",
   "metadata": {},
   "outputs": [],
   "source": [
    "df=pd.read_csv(\"Synthetic_dataset_1\")"
   ]
  },
  {
   "cell_type": "code",
   "execution_count": 3,
   "id": "1208c41f-16dc-4645-9049-458a54295907",
   "metadata": {},
   "outputs": [],
   "source": [
    "X=df.drop('Class',axis=1)\n",
    "Y=df['Class']"
   ]
  },
  {
   "cell_type": "code",
   "execution_count": 4,
   "id": "e3c18055-4e00-4164-b7cc-53ee8697751d",
   "metadata": {},
   "outputs": [],
   "source": [
    "x=X.to_numpy()\n",
    "y=Y.to_numpy()"
   ]
  },
  {
   "cell_type": "code",
   "execution_count": 5,
   "id": "4cae5d9b",
   "metadata": {},
   "outputs": [],
   "source": [
    "model_result={}\n",
    "def store(model_name,r2,mse,acc):\n",
    "    \n",
    "    model_result[model_name]={\n",
    "        'mse':mse,\n",
    "        'r2':r2,\n",
    "        'acc':acc\n",
    "    }\n",
    "    "
   ]
  },
  {
   "cell_type": "code",
   "execution_count": 6,
   "id": "26d00d25",
   "metadata": {},
   "outputs": [],
   "source": [
    "store('original_dataset_tested', 0.7444583137137805, 0.00043888908395070395, 0.9995611109160493)"
   ]
  },
  {
   "cell_type": "code",
   "execution_count": 7,
   "id": "810ed040",
   "metadata": {},
   "outputs": [
    {
     "name": "stdout",
     "output_type": "stream",
     "text": [
      "{'original_dataset_tested': {'mse': 0.00043888908395070395, 'r2': 0.7444583137137805, 'acc': 0.9995611109160493}}\n"
     ]
    }
   ],
   "source": [
    "print(model_result)"
   ]
  },
  {
   "cell_type": "code",
   "execution_count": 8,
   "id": "e8076041-1a04-48e0-9c86-256f0117619c",
   "metadata": {},
   "outputs": [
    {
     "data": {
      "image/png": "[encoded data removed]",
      "text/plain": [
       "<Figure size 640x480 with 1 Axes>"
      ]
     },
     "metadata": {},
     "output_type": "display_data"
    }
   ],
   "source": [
    "from sklearn.feature_selection import mutual_info_classif\n",
    "import matplotlib.pyplot as plt\n",
    "%matplotlib inline\n",
    "importance =mutual_info_classif(X,Y)\n",
    "feat_importance=pd.Series(importance,df.columns[0:len(df.columns)-1])\n",
    "\n",
    "feat_importance.plot(kind='barh', color='teal')\n",
    "plt.show()"
   ]
  },
  {
   "cell_type": "code",
   "execution_count": null,
   "id": "6b06a87d",
   "metadata": {},
   "outputs": [],
   "source": []
  },
  {
   "cell_type": "code",
   "execution_count": 9,
   "id": "26dd2d62",
   "metadata": {},
   "outputs": [
    {
     "name": "stdout",
     "output_type": "stream",
     "text": [
      "Time      0.042639\n",
      "V1        0.201923\n",
      "V2        0.171207\n",
      "V3        0.173271\n",
      "V4        0.251622\n",
      "V5        0.123706\n",
      "V6        0.154758\n",
      "V7        0.230000\n",
      "V8        0.079371\n",
      "V9        0.142582\n",
      "V10       0.198581\n",
      "V11       0.113700\n",
      "V12       0.278094\n",
      "V13       0.011763\n",
      "V14       0.247244\n",
      "V15       0.027063\n",
      "V16       0.148451\n",
      "V17       0.132906\n",
      "V18       0.089681\n",
      "V19       0.051573\n",
      "V20       0.138064\n",
      "V21       0.135359\n",
      "V22       0.060300\n",
      "V23       0.064635\n",
      "V24       0.048028\n",
      "V25       0.022419\n",
      "V26       0.017726\n",
      "V27       0.193051\n",
      "V28       0.159285\n",
      "Amount    0.043962\n",
      "dtype: float64\n"
     ]
    }
   ],
   "source": [
    "print(feat_importance)"
   ]
  },
  {
   "cell_type": "code",
   "execution_count": 36,
   "id": "6d7b45a2",
   "metadata": {},
   "outputs": [
    {
     "data": {
      "text/plain": [
       "Index(['Time', 'V1', 'V2', 'V3', 'V4', 'V5', 'V6', 'V7', 'V8', 'V9', 'V10',\n",
       "       'V11', 'V12', 'V13', 'V14', 'V15', 'V16', 'V17', 'V18', 'V19', 'V20',\n",
       "       'V21', 'V22', 'V23', 'V24', 'V25', 'V26', 'V27', 'V28', 'Amount'],\n",
       "      dtype='object')"
      ]
     },
     "execution_count": 36,
     "metadata": {},
     "output_type": "execute_result"
    }
   ],
   "source": [
    "feat_importance."
   ]
  },
  {
   "cell_type": "code",
   "execution_count": 26,
   "id": "98544aa0",
   "metadata": {},
   "outputs": [
    {
     "data": {
      "text/plain": [
       "[0.2780943247096974]"
      ]
     },
     "execution_count": 26,
     "metadata": {},
     "output_type": "execute_result"
    }
   ],
   "source": [
    "df_columns"
   ]
  },
  {
   "cell_type": "code",
   "execution_count": 11,
   "id": "a5a29689-d7a2-4a26-beca-dac122d9e308",
   "metadata": {},
   "outputs": [
    {
     "ename": "ModuleNotFoundError",
     "evalue": "No module named 'skfeature'",
     "output_type": "error",
     "traceback": [
      "\u001b[1;31m---------------------------------------------------------------------------\u001b[0m",
      "\u001b[1;31mModuleNotFoundError\u001b[0m                       Traceback (most recent call last)",
      "Cell \u001b[1;32mIn[11], line 2\u001b[0m\n\u001b[0;32m      1\u001b[0m \u001b[38;5;28;01mfrom\u001b[39;00m \u001b[38;5;21;01mscipy\u001b[39;00m\u001b[38;5;21;01m.\u001b[39;00m\u001b[38;5;21;01msparse\u001b[39;00m \u001b[38;5;28;01mimport\u001b[39;00m \u001b[38;5;241m*\u001b[39m\n\u001b[1;32m----> 2\u001b[0m \u001b[38;5;28;01mfrom\u001b[39;00m \u001b[38;5;21;01mskfeature\u001b[39;00m\u001b[38;5;21;01m.\u001b[39;00m\u001b[38;5;21;01mutility\u001b[39;00m\u001b[38;5;21;01m.\u001b[39;00m\u001b[38;5;21;01mconstruct_W\u001b[39;00m \u001b[38;5;28;01mimport\u001b[39;00m construct_W\n",
      "\u001b[1;31mModuleNotFoundError\u001b[0m: No module named 'skfeature'"
     ]
    }
   ],
   "source": [
    "from scipy.sparse import *\n",
    "from skfeature.utility.construct_W import construct_W\n"
   ]
  },
  {
   "cell_type": "code",
   "execution_count": null,
   "id": "ca4b24cc-ae83-40ae-9ce7-e77b418a7b56",
   "metadata": {},
   "outputs": [],
   "source": [
    "from sklearn.model_selection import train_test_split\n",
    "\n",
    "# Sample a smaller subset (adjust sample_size as needed)\n",
    "sample_size = 10000\n",
    "X_sample, _, y_sample, _ = train_test_split(x, y, test_size=1 - sample_size/len(y), random_state=42)\n",
    "\n",
    "# Calculate Fisher core on the sample dataset\n",
    "# (Use a different feature selection method or implement custom logic)\n"
   ]
  },
  {
   "cell_type": "code",
   "execution_count": null,
   "id": "6d9cdd45-985c-4de5-b102-412b732a111d",
   "metadata": {},
   "outputs": [],
   "source": [
    "X_sample\n"
   ]
  },
  {
   "cell_type": "code",
   "execution_count": null,
   "id": "ed9b6f2f-8106-44dc-8444-b71518cbe375",
   "metadata": {},
   "outputs": [],
   "source": [
    "from skfeature.function.similarity_based import fisher_score\n",
    "%matplotlib inline\n",
    "ranls=fisher_score.fisher_score(X_sample,y_sample)"
   ]
  },
  {
   "cell_type": "code",
   "execution_count": null,
   "id": "4af32adc-5e76-474d-894f-ae69f7aa15ad",
   "metadata": {},
   "outputs": [],
   "source": [
    "importances=pd.Series(ranls,df.columns[0:len(df.columns)-1])\n",
    "importances.plot(kind='barh',color='teal')"
   ]
  },
  {
   "cell_type": "code",
   "execution_count": null,
   "id": "83eebcfe-b1b9-4805-ad60-494569ee3944",
   "metadata": {},
   "outputs": [],
   "source": [
    "import seaborn as sns\n",
    "corr_mat=df.corr()\n",
    "plt.figure(figsize=(20,10))\n",
    "sns.heatmap(corr_mat, annot=True,cmap='Purples_r')\n",
    "plt.title(\"correlation after datasynthesis\")\n",
    "plt.show()"
   ]
  },
  {
   "cell_type": "code",
   "execution_count": null,
   "id": "3050d975-9d04-43d1-ba7f-765c6499330e",
   "metadata": {},
   "outputs": [],
   "source": [
    "from sklearn.feature_selection import VarianceThreshold"
   ]
  },
  {
   "cell_type": "code",
   "execution_count": null,
   "id": "305bc667-b631-46e0-8e96-156c49f6edbf",
   "metadata": {},
   "outputs": [],
   "source": [
    "v_threshold = VarianceThreshold(threshold=0)\n",
    "v_threshold.fit(x)"
   ]
  },
  {
   "cell_type": "code",
   "execution_count": null,
   "id": "092d6e2e-1b16-40f0-971b-c22d669a7152",
   "metadata": {},
   "outputs": [],
   "source": [
    "v_threshold.get_support()"
   ]
  },
  {
   "cell_type": "code",
   "execution_count": null,
   "id": "b9bf5a6f",
   "metadata": {},
   "outputs": [],
   "source": []
  }
 ],
 "metadata": {
  "kernelspec": {
   "display_name": "Python 3 (ipykernel)",
   "language": "python",
   "name": "python3"
  },
  "language_info": {
   "codemirror_mode": {
    "name": "ipython",
    "version": 3
   },
   "file_extension": ".py",
   "mimetype": "text/x-python",
   "name": "python",
   "nbconvert_exporter": "python",
   "pygments_lexer": "ipython3",
   "version": "3.11.5"
  }
 },
 "nbformat": 4,
 "nbformat_minor": 5
}
